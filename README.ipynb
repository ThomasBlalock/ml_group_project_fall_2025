{
 "cells": [
  {
   "cell_type": "code",
   "execution_count": null,
   "id": "4ec6ba8b",
   "metadata": {},
   "outputs": [],
   "source": [
    "# Before running your code, change directory into the data folder by running the following code block\n",
    "# (just put it at the top of the notebook you're working in)\n",
    "import os\n",
    "os.chdir(\"../../data\")"
   ]
  },
  {
   "cell_type": "code",
   "execution_count": 8,
   "id": "449d9834",
   "metadata": {},
   "outputs": [
    {
     "name": "stdout",
     "output_type": "stream",
     "text": [
      "b'hello!'\n"
     ]
    }
   ],
   "source": [
    "# Then you can load and save data\n",
    "with open(\"test.txt\", \"rb\") as f:\n",
    "    print(f.read())"
   ]
  }
 ],
 "metadata": {
  "kernelspec": {
   "display_name": "pred_modeling_i",
   "language": "python",
   "name": "python3"
  },
  "language_info": {
   "codemirror_mode": {
    "name": "ipython",
    "version": 3
   },
   "file_extension": ".py",
   "mimetype": "text/x-python",
   "name": "python",
   "nbconvert_exporter": "python",
   "pygments_lexer": "ipython3",
   "version": "3.13.5"
  }
 },
 "nbformat": 4,
 "nbformat_minor": 5
}
